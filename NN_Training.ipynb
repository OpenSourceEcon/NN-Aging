{
 "cells": [
  {
   "cell_type": "markdown",
   "metadata": {
    "id": "BSp0qK7iPot9"
   },
   "source": [
    "This notebook builds a surrogate model for the macroeconomic impacts of improvements in biological aging.\n",
    "\n",
    "To run this notebooks, use the `dynviz-dev` virtual environment, which can be build using the `environment.yml` file located in the same directory as this notebook.\n",
    "\n",
    "# Imports"
   ]
  },
  {
   "cell_type": "code",
   "execution_count": 1,
   "metadata": {
    "id": "Fyk7fzYbPQFL"
   },
   "outputs": [],
   "source": [
    "# imports\n",
    "import numpy as np\n",
    "import os\n",
    "import pandas as pd\n",
    "import scipy.interpolate as si\n",
    "import pickle\n",
    "import matplotlib.pyplot as plt\n",
    "import tensorflow as tf\n",
    "from tensorflow import keras\n",
    "import tensorflow_decision_forests as tfdf\n",
    "from sklearn.model_selection import train_test_split"
   ]
  },
  {
   "cell_type": "markdown",
   "metadata": {},
   "source": [
    "## 1. Prep the data\n",
    "The following data contains 1 predicted variable $y$ which is an $N\\times 1$ vector and one matrix of 6 input variables $X$ which is an $N\\times 6$ matrix, where $N=27,472$. "
   ]
  },
  {
   "cell_type": "code",
   "execution_count": 3,
   "metadata": {},
   "outputs": [
    {
     "name": "stdout",
     "output_type": "stream",
     "text": [
      "The shape of X is (27472, 6)\n",
      "The shape of y is (27472, 1)\n"
     ]
    }
   ],
   "source": [
    "# Set the current directory as the cur_dir path\n",
    "cur_dir = os.getcwd()\n",
    "data_dir = os.path.join(cur_dir, 'data')\n",
    "\n",
    "# Read in the data\n",
    "X = np.loadtxt(os.path.join(data_dir, 'X.txt'), delimiter=',')\n",
    "y = np.loadtxt(os.path.join(data_dir, 'y.txt'), delimiter=',').reshape(-1, 1)\n",
    "print(f\"The shape of X is {X.shape}\")\n",
    "print(f\"The shape of y is {y.shape}\")"
   ]
  },
  {
   "cell_type": "code",
   "execution_count": 4,
   "metadata": {},
   "outputs": [],
   "source": [
    "# train-test split for model evaluation\n",
    "X_train, X_test, y_train, y_test = train_test_split(\n",
    "    X, y, train_size=0.8, shuffle=True\n",
    ")"
   ]
  },
  {
   "cell_type": "markdown",
   "metadata": {},
   "source": [
    "Here is the linear N-dimensional interpolant that we fit to our sparse runs of 472 data points in this $(X,y)$ space. This interpolant `interpolant_avg_diff()` is an estimated `scipy.interpolate.LinearNDInterpolator` object. This would be useful, e.g., if you want to use the surrogate model to generate new data points for each epoch."
   ]
  },
  {
   "cell_type": "code",
   "execution_count": 5,
   "metadata": {},
   "outputs": [
    {
     "name": "stderr",
     "output_type": "stream",
     "text": [
      "/var/folders/d4/trj3dssd6s3g8kxvjmczz11w0000gn/T/ipykernel_75912/4103796048.py:1: DeprecationWarning: Please import `LinearNDInterpolator` from the `scipy.interpolate` namespace; the `scipy.interpolate.interpnd` namespace is deprecated and will be removed in SciPy 2.0.0.\n",
      "  interpolant_avg_diff = pickle.load(\n"
     ]
    },
    {
     "name": "stdout",
     "output_type": "stream",
     "text": [
      "Predictions =  [[2472.26461622]\n",
      " [1701.04342628]\n",
      " [ 682.2876416 ]\n",
      " [1760.64694548]\n",
      " [1204.88980962]]\n"
     ]
    }
   ],
   "source": [
    "interpolant_avg_diff = pickle.load(\n",
    "    open(\n",
    "        os.path.join(data_dir, \"interpolant_avg_diff.pkl\"), \"rb\"\n",
    "    )\n",
    ")\n",
    "# using\n",
    "prediction = interpolant_avg_diff(X_test)\n",
    "print(\"Predictions = \", prediction[:5])"
   ]
  },
  {
   "cell_type": "markdown",
   "metadata": {},
   "source": [
    "# Set up the NN model"
   ]
  },
  {
   "cell_type": "code",
   "execution_count": 6,
   "metadata": {},
   "outputs": [],
   "source": [
    "# set some hyperparameters\n",
    "nodes_per_layer = 20 # multiplied by num inputs\n",
    "activation_function = \"relu\"\n",
    "num_epochs = 100\n",
    "learning_rate = 0.001\n",
    "# set up early stopping\n",
    "callback = keras.callbacks.EarlyStopping(monitor='loss', patience=5000)"
   ]
  },
  {
   "cell_type": "code",
   "execution_count": 7,
   "metadata": {},
   "outputs": [
    {
     "name": "stdout",
     "output_type": "stream",
     "text": [
      "Dimensions of each layer are [6, array([120., 108.,  96.,  84.,  72.,  60.,  48.]), 1]\n"
     ]
    }
   ],
   "source": [
    "# Layer setting\n",
    "num_input = X.shape[1]\n",
    "num_hidden_layers = 7\n",
    "num_hidden = np.zeros(num_hidden_layers)\n",
    "# Start with more nodes per layer and decrease\n",
    "for i in range(num_hidden_layers):\n",
    "    num_hidden[i] = (nodes_per_layer - i * 2) * num_input\n",
    "# num_hidden = nodes_per_layer * num_input\n",
    "num_output = y.shape[1]\n",
    "layers_dim = [num_input, num_hidden, num_output]\n",
    "print(\"Dimensions of each layer are {}\".format(layers_dim))"
   ]
  },
  {
   "cell_type": "code",
   "execution_count": 8,
   "metadata": {},
   "outputs": [],
   "source": [
    "# Define the normalization function of the output\n",
    "def normalize_output(data):\n",
    "    data_max = np.max(data)\n",
    "    data_min = np.min(data)\n",
    "    return (data - data_min) / (data_max - data_min)"
   ]
  },
  {
   "cell_type": "code",
   "execution_count": 10,
   "metadata": {},
   "outputs": [
    {
     "name": "stdout",
     "output_type": "stream",
     "text": [
      "Model: \"sequential_1\"\n",
      "_________________________________________________________________\n",
      " Layer (type)                Output Shape              Param #   \n",
      "=================================================================\n",
      " normalization_1 (Normaliza  (None, 6)                 13        \n",
      " tion)                                                           \n",
      "                                                                 \n",
      " dense_8 (Dense)             (None, 120)               840       \n",
      "                                                                 \n",
      " dense_9 (Dense)             (None, 108)               13068     \n",
      "                                                                 \n",
      " dense_10 (Dense)            (None, 96)                10464     \n",
      "                                                                 \n",
      " dense_11 (Dense)            (None, 84)                8148      \n",
      "                                                                 \n",
      " dense_12 (Dense)            (None, 72)                6120      \n",
      "                                                                 \n",
      " dense_13 (Dense)            (None, 60)                4380      \n",
      "                                                                 \n",
      " dense_14 (Dense)            (None, 48)                2928      \n",
      "                                                                 \n",
      " dense_15 (Dense)            (None, 1)                 49        \n",
      "                                                                 \n",
      "=================================================================\n",
      "Total params: 46010 (179.73 KB)\n",
      "Trainable params: 45997 (179.68 KB)\n",
      "Non-trainable params: 13 (56.00 Byte)\n",
      "_________________________________________________________________\n",
      "None\n"
     ]
    }
   ],
   "source": [
    "# Create a normalization layer for the inputs\n",
    "norm_layer = tf.keras.layers.Normalization(input_shape=[num_input,], axis=-1)\n",
    "# norm_layer = tf.keras.layers.Normalization(input_shape=[num_input,], axis=None)\n",
    "\n",
    "# Initialize the weights\n",
    "initializer = tf.keras.initializers.HeNormal(99)\n",
    "# initializer = tf.keras.initializers.HeUniform()\n",
    "\n",
    "# Adapt the layer to your training data\n",
    "norm_layer.adapt(X_train)\n",
    "nn = tf.keras.Sequential(\n",
    "    [\n",
    "        norm_layer,\n",
    "        keras.layers.Dense(num_hidden[0], activation=activation_function, kernel_initializer=initializer),\n",
    "        keras.layers.Dense(num_hidden[1], activation=activation_function, kernel_initializer=initializer),\n",
    "        keras.layers.Dense(num_hidden[2], activation=activation_function, kernel_initializer=initializer),\n",
    "        keras.layers.Dense(num_hidden[3], activation=activation_function, kernel_initializer=initializer),\n",
    "        keras.layers.Dense(num_hidden[4], activation=activation_function, kernel_initializer=initializer),\n",
    "        keras.layers.Dense(num_hidden[5], activation=activation_function, kernel_initializer=initializer),\n",
    "        keras.layers.Dense(num_hidden[6], activation=activation_function, kernel_initializer=initializer),\n",
    "        keras.layers.Dense(num_output, kernel_initializer=initializer),\n",
    "    ]\n",
    ")\n",
    "print(nn.summary())"
   ]
  },
  {
   "cell_type": "code",
   "execution_count": 11,
   "metadata": {
    "id": "YRwvbbr0XIbf"
   },
   "outputs": [],
   "source": [
    "loss_fn = tf.keras.losses.MeanSquaredError()\n",
    "optimizer = tf.keras.optimizers.legacy.Adam(learning_rate=learning_rate)\n",
    "nn.compile(optimizer=optimizer, loss=loss_fn, metrics=['mean_squared_error'])"
   ]
  },
  {
   "cell_type": "markdown",
   "metadata": {},
   "source": [
    "Train the model."
   ]
  },
  {
   "cell_type": "code",
   "execution_count": 12,
   "metadata": {},
   "outputs": [
    {
     "name": "stdout",
     "output_type": "stream",
     "text": [
      "Epoch 1/100\n",
      "687/687 [==============================] - 1s 1ms/step - loss: 0.0045 - mean_squared_error: 0.0045\n",
      "Epoch 2/100\n",
      "687/687 [==============================] - 1s 1ms/step - loss: 4.1973e-04 - mean_squared_error: 4.1973e-04\n",
      "Epoch 3/100\n",
      "687/687 [==============================] - 1s 1ms/step - loss: 2.5104e-04 - mean_squared_error: 2.5104e-04\n",
      "Epoch 4/100\n",
      "687/687 [==============================] - 1s 1ms/step - loss: 2.1135e-04 - mean_squared_error: 2.1135e-04\n",
      "Epoch 5/100\n",
      "687/687 [==============================] - 1s 1ms/step - loss: 1.9093e-04 - mean_squared_error: 1.9093e-04 - val_loss: 2.1363e-04 - val_mean_squared_error: 2.1363e-04\n",
      "Epoch 6/100\n",
      "687/687 [==============================] - 1s 1ms/step - loss: 1.7413e-04 - mean_squared_error: 1.7413e-04\n",
      "Epoch 7/100\n",
      "687/687 [==============================] - 1s 1ms/step - loss: 1.6051e-04 - mean_squared_error: 1.6051e-04\n",
      "Epoch 8/100\n",
      "687/687 [==============================] - 1s 1ms/step - loss: 1.7333e-04 - mean_squared_error: 1.7333e-04\n",
      "Epoch 9/100\n",
      "687/687 [==============================] - 1s 1ms/step - loss: 1.4864e-04 - mean_squared_error: 1.4864e-04\n",
      "Epoch 10/100\n",
      "687/687 [==============================] - 1s 1ms/step - loss: 1.5507e-04 - mean_squared_error: 1.5507e-04 - val_loss: 1.4615e-04 - val_mean_squared_error: 1.4615e-04\n",
      "Epoch 11/100\n",
      "687/687 [==============================] - 1s 1ms/step - loss: 1.2418e-04 - mean_squared_error: 1.2418e-04\n",
      "Epoch 12/100\n",
      "687/687 [==============================] - 1s 1ms/step - loss: 1.0832e-04 - mean_squared_error: 1.0832e-04\n",
      "Epoch 13/100\n",
      "687/687 [==============================] - 1s 1ms/step - loss: 1.0593e-04 - mean_squared_error: 1.0593e-04\n",
      "Epoch 14/100\n",
      "687/687 [==============================] - 1s 1ms/step - loss: 9.7592e-05 - mean_squared_error: 9.7592e-05\n",
      "Epoch 15/100\n",
      "687/687 [==============================] - 1s 1ms/step - loss: 1.1264e-04 - mean_squared_error: 1.1264e-04 - val_loss: 2.1124e-04 - val_mean_squared_error: 2.1124e-04\n",
      "Epoch 16/100\n",
      "687/687 [==============================] - 1s 1ms/step - loss: 9.2550e-05 - mean_squared_error: 9.2550e-05\n",
      "Epoch 17/100\n",
      "687/687 [==============================] - 1s 1ms/step - loss: 8.6084e-05 - mean_squared_error: 8.6084e-05\n",
      "Epoch 18/100\n",
      "687/687 [==============================] - 1s 1ms/step - loss: 8.4333e-05 - mean_squared_error: 8.4333e-05\n",
      "Epoch 19/100\n",
      "687/687 [==============================] - 1s 1ms/step - loss: 7.7898e-05 - mean_squared_error: 7.7898e-05\n",
      "Epoch 20/100\n",
      "687/687 [==============================] - 1s 1ms/step - loss: 7.3489e-05 - mean_squared_error: 7.3489e-05 - val_loss: 1.4588e-04 - val_mean_squared_error: 1.4588e-04\n",
      "Epoch 21/100\n",
      "687/687 [==============================] - 1s 1ms/step - loss: 7.9932e-05 - mean_squared_error: 7.9932e-05\n",
      "Epoch 22/100\n",
      "687/687 [==============================] - 1s 1ms/step - loss: 7.5347e-05 - mean_squared_error: 7.5347e-05\n",
      "Epoch 23/100\n",
      "687/687 [==============================] - 1s 1ms/step - loss: 6.1833e-05 - mean_squared_error: 6.1833e-05\n",
      "Epoch 24/100\n",
      "687/687 [==============================] - 1s 1ms/step - loss: 6.4398e-05 - mean_squared_error: 6.4398e-05\n",
      "Epoch 25/100\n",
      "687/687 [==============================] - 1s 1ms/step - loss: 6.5495e-05 - mean_squared_error: 6.5495e-05 - val_loss: 9.7698e-05 - val_mean_squared_error: 9.7698e-05\n",
      "Epoch 26/100\n",
      "687/687 [==============================] - 1s 1ms/step - loss: 5.8114e-05 - mean_squared_error: 5.8114e-05\n",
      "Epoch 27/100\n",
      "687/687 [==============================] - 1s 1ms/step - loss: 5.5296e-05 - mean_squared_error: 5.5296e-05\n",
      "Epoch 28/100\n",
      "687/687 [==============================] - 1s 1ms/step - loss: 5.5693e-05 - mean_squared_error: 5.5693e-05\n",
      "Epoch 29/100\n",
      "687/687 [==============================] - 1s 1ms/step - loss: 6.0006e-05 - mean_squared_error: 6.0006e-05\n",
      "Epoch 30/100\n",
      "687/687 [==============================] - 1s 1ms/step - loss: 5.2514e-05 - mean_squared_error: 5.2514e-05 - val_loss: 1.3176e-04 - val_mean_squared_error: 1.3176e-04\n",
      "Epoch 31/100\n",
      "687/687 [==============================] - 1s 1ms/step - loss: 5.0566e-05 - mean_squared_error: 5.0566e-05\n",
      "Epoch 32/100\n",
      "687/687 [==============================] - 1s 1ms/step - loss: 4.7183e-05 - mean_squared_error: 4.7183e-05\n",
      "Epoch 33/100\n",
      "687/687 [==============================] - 1s 1ms/step - loss: 4.9724e-05 - mean_squared_error: 4.9724e-05\n",
      "Epoch 34/100\n",
      "687/687 [==============================] - 1s 1ms/step - loss: 4.6217e-05 - mean_squared_error: 4.6217e-05\n",
      "Epoch 35/100\n",
      "687/687 [==============================] - 1s 1ms/step - loss: 4.4077e-05 - mean_squared_error: 4.4077e-05 - val_loss: 1.0123e-04 - val_mean_squared_error: 1.0123e-04\n",
      "Epoch 36/100\n",
      "687/687 [==============================] - 1s 1ms/step - loss: 4.5058e-05 - mean_squared_error: 4.5058e-05\n",
      "Epoch 37/100\n",
      "687/687 [==============================] - 1s 1ms/step - loss: 4.3521e-05 - mean_squared_error: 4.3521e-05\n",
      "Epoch 38/100\n",
      "687/687 [==============================] - 1s 1ms/step - loss: 4.3273e-05 - mean_squared_error: 4.3273e-05\n",
      "Epoch 39/100\n",
      "687/687 [==============================] - 1s 1ms/step - loss: 4.2109e-05 - mean_squared_error: 4.2109e-05\n",
      "Epoch 40/100\n",
      "687/687 [==============================] - 1s 1ms/step - loss: 3.6930e-05 - mean_squared_error: 3.6930e-05 - val_loss: 9.2651e-05 - val_mean_squared_error: 9.2651e-05\n",
      "Epoch 41/100\n",
      "687/687 [==============================] - 1s 1ms/step - loss: 3.8375e-05 - mean_squared_error: 3.8375e-05\n",
      "Epoch 42/100\n",
      "687/687 [==============================] - 1s 1ms/step - loss: 4.0656e-05 - mean_squared_error: 4.0656e-05\n",
      "Epoch 43/100\n",
      "687/687 [==============================] - 1s 1ms/step - loss: 3.8336e-05 - mean_squared_error: 3.8336e-05\n",
      "Epoch 44/100\n",
      "687/687 [==============================] - 1s 1ms/step - loss: 3.9249e-05 - mean_squared_error: 3.9249e-05\n",
      "Epoch 45/100\n",
      "687/687 [==============================] - 1s 1ms/step - loss: 4.0144e-05 - mean_squared_error: 4.0144e-05 - val_loss: 9.5994e-05 - val_mean_squared_error: 9.5994e-05\n",
      "Epoch 46/100\n",
      "687/687 [==============================] - 1s 1ms/step - loss: 3.8839e-05 - mean_squared_error: 3.8839e-05\n",
      "Epoch 47/100\n",
      "687/687 [==============================] - 1s 1ms/step - loss: 3.3104e-05 - mean_squared_error: 3.3104e-05\n",
      "Epoch 48/100\n",
      "687/687 [==============================] - 1s 1ms/step - loss: 3.3755e-05 - mean_squared_error: 3.3755e-05\n",
      "Epoch 49/100\n",
      "687/687 [==============================] - 1s 1ms/step - loss: 3.5519e-05 - mean_squared_error: 3.5519e-05\n",
      "Epoch 50/100\n",
      "687/687 [==============================] - 1s 1ms/step - loss: 3.3671e-05 - mean_squared_error: 3.3671e-05 - val_loss: 1.3716e-04 - val_mean_squared_error: 1.3716e-04\n",
      "Epoch 51/100\n",
      "687/687 [==============================] - 1s 1ms/step - loss: 3.6045e-05 - mean_squared_error: 3.6045e-05\n",
      "Epoch 52/100\n",
      "687/687 [==============================] - 1s 1ms/step - loss: 3.3578e-05 - mean_squared_error: 3.3578e-05\n",
      "Epoch 53/100\n",
      "687/687 [==============================] - 1s 1ms/step - loss: 3.0851e-05 - mean_squared_error: 3.0851e-05\n",
      "Epoch 54/100\n",
      "687/687 [==============================] - 1s 1ms/step - loss: 3.1669e-05 - mean_squared_error: 3.1669e-05\n",
      "Epoch 55/100\n",
      "687/687 [==============================] - 1s 1ms/step - loss: 3.1917e-05 - mean_squared_error: 3.1917e-05 - val_loss: 1.1290e-04 - val_mean_squared_error: 1.1290e-04\n",
      "Epoch 56/100\n",
      "687/687 [==============================] - 1s 1ms/step - loss: 3.4160e-05 - mean_squared_error: 3.4160e-05\n",
      "Epoch 57/100\n",
      "687/687 [==============================] - 1s 1ms/step - loss: 3.2770e-05 - mean_squared_error: 3.2770e-05\n",
      "Epoch 58/100\n",
      "687/687 [==============================] - 1s 1ms/step - loss: 2.7974e-05 - mean_squared_error: 2.7974e-05\n",
      "Epoch 59/100\n",
      "687/687 [==============================] - 1s 1ms/step - loss: 2.9894e-05 - mean_squared_error: 2.9894e-05\n",
      "Epoch 60/100\n",
      "687/687 [==============================] - 1s 1ms/step - loss: 3.1467e-05 - mean_squared_error: 3.1467e-05 - val_loss: 1.1368e-04 - val_mean_squared_error: 1.1368e-04\n",
      "Epoch 61/100\n",
      "687/687 [==============================] - 1s 1ms/step - loss: 2.8880e-05 - mean_squared_error: 2.8880e-05\n",
      "Epoch 62/100\n",
      "687/687 [==============================] - 1s 1ms/step - loss: 3.4254e-05 - mean_squared_error: 3.4254e-05\n",
      "Epoch 63/100\n",
      "687/687 [==============================] - 1s 1ms/step - loss: 2.6570e-05 - mean_squared_error: 2.6570e-05\n",
      "Epoch 64/100\n",
      "687/687 [==============================] - 1s 1ms/step - loss: 2.7210e-05 - mean_squared_error: 2.7210e-05\n",
      "Epoch 65/100\n",
      "687/687 [==============================] - 1s 1ms/step - loss: 2.7584e-05 - mean_squared_error: 2.7584e-05 - val_loss: 1.8097e-04 - val_mean_squared_error: 1.8097e-04\n",
      "Epoch 66/100\n",
      "687/687 [==============================] - 1s 1ms/step - loss: 3.5441e-05 - mean_squared_error: 3.5441e-05\n",
      "Epoch 67/100\n",
      "687/687 [==============================] - 1s 1ms/step - loss: 2.8004e-05 - mean_squared_error: 2.8004e-05\n",
      "Epoch 68/100\n",
      "687/687 [==============================] - 1s 1ms/step - loss: 2.6565e-05 - mean_squared_error: 2.6565e-05\n",
      "Epoch 69/100\n",
      "687/687 [==============================] - 1s 1ms/step - loss: 2.5695e-05 - mean_squared_error: 2.5695e-05\n",
      "Epoch 70/100\n",
      "687/687 [==============================] - 1s 1ms/step - loss: 2.4909e-05 - mean_squared_error: 2.4909e-05 - val_loss: 1.6851e-04 - val_mean_squared_error: 1.6851e-04\n",
      "Epoch 71/100\n",
      "687/687 [==============================] - 1s 1ms/step - loss: 2.5246e-05 - mean_squared_error: 2.5246e-05\n",
      "Epoch 72/100\n",
      "687/687 [==============================] - 1s 1ms/step - loss: 2.7716e-05 - mean_squared_error: 2.7716e-05\n",
      "Epoch 73/100\n",
      "687/687 [==============================] - 1s 1ms/step - loss: 2.6864e-05 - mean_squared_error: 2.6864e-05\n",
      "Epoch 74/100\n",
      "687/687 [==============================] - 1s 1ms/step - loss: 2.7754e-05 - mean_squared_error: 2.7754e-05\n",
      "Epoch 75/100\n",
      "687/687 [==============================] - 1s 1ms/step - loss: 2.5588e-05 - mean_squared_error: 2.5588e-05 - val_loss: 1.2734e-04 - val_mean_squared_error: 1.2734e-04\n",
      "Epoch 76/100\n",
      "687/687 [==============================] - 1s 1ms/step - loss: 2.4143e-05 - mean_squared_error: 2.4143e-05\n",
      "Epoch 77/100\n",
      "687/687 [==============================] - 1s 1ms/step - loss: 2.3177e-05 - mean_squared_error: 2.3177e-05\n",
      "Epoch 78/100\n",
      "687/687 [==============================] - 1s 1ms/step - loss: 2.3311e-05 - mean_squared_error: 2.3311e-05\n",
      "Epoch 79/100\n",
      "687/687 [==============================] - 1s 1ms/step - loss: 2.4370e-05 - mean_squared_error: 2.4370e-05\n",
      "Epoch 80/100\n",
      "687/687 [==============================] - 1s 1ms/step - loss: 2.4295e-05 - mean_squared_error: 2.4295e-05 - val_loss: 9.3401e-05 - val_mean_squared_error: 9.3401e-05\n",
      "Epoch 81/100\n",
      "687/687 [==============================] - 1s 1ms/step - loss: 2.5748e-05 - mean_squared_error: 2.5748e-05\n",
      "Epoch 82/100\n",
      "687/687 [==============================] - 1s 1ms/step - loss: 2.3221e-05 - mean_squared_error: 2.3221e-05\n",
      "Epoch 83/100\n",
      "687/687 [==============================] - 1s 1ms/step - loss: 2.2634e-05 - mean_squared_error: 2.2634e-05\n",
      "Epoch 84/100\n",
      "687/687 [==============================] - 1s 1ms/step - loss: 2.3076e-05 - mean_squared_error: 2.3076e-05\n",
      "Epoch 85/100\n",
      "687/687 [==============================] - 1s 1ms/step - loss: 2.4865e-05 - mean_squared_error: 2.4865e-05 - val_loss: 1.3313e-04 - val_mean_squared_error: 1.3313e-04\n",
      "Epoch 86/100\n",
      "687/687 [==============================] - 1s 1ms/step - loss: 2.2553e-05 - mean_squared_error: 2.2553e-05\n",
      "Epoch 87/100\n",
      "687/687 [==============================] - 1s 1ms/step - loss: 2.2353e-05 - mean_squared_error: 2.2353e-05\n",
      "Epoch 88/100\n",
      "687/687 [==============================] - 1s 1ms/step - loss: 2.2928e-05 - mean_squared_error: 2.2928e-05\n",
      "Epoch 89/100\n",
      "687/687 [==============================] - 1s 1ms/step - loss: 2.2123e-05 - mean_squared_error: 2.2123e-05\n",
      "Epoch 90/100\n",
      "687/687 [==============================] - 1s 1ms/step - loss: 2.2759e-05 - mean_squared_error: 2.2759e-05 - val_loss: 1.3881e-04 - val_mean_squared_error: 1.3881e-04\n",
      "Epoch 91/100\n",
      "687/687 [==============================] - 1s 1ms/step - loss: 2.2808e-05 - mean_squared_error: 2.2808e-05\n",
      "Epoch 92/100\n",
      "687/687 [==============================] - 1s 1ms/step - loss: 2.1738e-05 - mean_squared_error: 2.1738e-05\n",
      "Epoch 93/100\n",
      "687/687 [==============================] - 1s 1ms/step - loss: 2.1839e-05 - mean_squared_error: 2.1839e-05\n",
      "Epoch 94/100\n",
      "687/687 [==============================] - 1s 1ms/step - loss: 2.2090e-05 - mean_squared_error: 2.2090e-05\n",
      "Epoch 95/100\n",
      "687/687 [==============================] - 1s 1ms/step - loss: 1.9664e-05 - mean_squared_error: 1.9664e-05 - val_loss: 1.3487e-04 - val_mean_squared_error: 1.3487e-04\n",
      "Epoch 96/100\n",
      "687/687 [==============================] - 1s 1ms/step - loss: 2.1539e-05 - mean_squared_error: 2.1539e-05\n",
      "Epoch 97/100\n",
      "687/687 [==============================] - 1s 1ms/step - loss: 2.5831e-05 - mean_squared_error: 2.5831e-05\n",
      "Epoch 98/100\n",
      "687/687 [==============================] - 1s 1ms/step - loss: 1.9564e-05 - mean_squared_error: 1.9564e-05\n",
      "Epoch 99/100\n",
      "687/687 [==============================] - 1s 1ms/step - loss: 2.0803e-05 - mean_squared_error: 2.0803e-05\n",
      "Epoch 100/100\n",
      "687/687 [==============================] - 1s 1ms/step - loss: 2.0234e-05 - mean_squared_error: 2.0234e-05 - val_loss: 1.3623e-04 - val_mean_squared_error: 1.3623e-04\n"
     ]
    }
   ],
   "source": [
    "history = nn.fit(\n",
    "    X_train, normalize_output(y_train),\n",
    "    epochs=num_epochs,\n",
    "    callbacks=[callback],\n",
    "    # sample_weight=sample_weights,\n",
    "    batch_size=32,\n",
    "    validation_data=(X_test,  normalize_output(y_test)),\n",
    "    validation_freq=5,   # Evaluate every 5 epochs\n",
    "    verbose=1\n",
    ")"
   ]
  },
  {
   "cell_type": "code",
   "execution_count": 13,
   "metadata": {},
   "outputs": [
    {
     "data": {
      "image/png": "[encoded data removed]",
      "text/plain": [
       "<Figure size 640x480 with 1 Axes>"
      ]
     },
     "metadata": {},
     "output_type": "display_data"
    }
   ],
   "source": [
    "# Plot training and validation loss\n",
    "plt.plot(np.arange(num_epochs), history.history['loss'], label='Train Loss')\n",
    "plt.plot(\n",
    "    np.linspace(0, num_epochs, num=int(np.ceil(num_epochs/5))),\n",
    "    history.history['val_loss'], label='Test Loss', marker='o'\n",
    ")\n",
    "plt.ylim(0, 0.0005)\n",
    "plt.xlabel('Epoch')\n",
    "plt.ylabel('Loss')\n",
    "plt.title('Train vs Test Loss')\n",
    "plt.legend()\n",
    "plt.show()"
   ]
  },
  {
   "cell_type": "markdown",
   "metadata": {},
   "source": [
    "# Check the fit of the model"
   ]
  },
  {
   "cell_type": "code",
   "execution_count": 14,
   "metadata": {},
   "outputs": [
    {
     "name": "stdout",
     "output_type": "stream",
     "text": [
      "859/859 - 0s - loss: 1.2431e-04 - mean_squared_error: 1.2431e-04 - 315ms/epoch - 367us/step\n"
     ]
    },
    {
     "data": {
      "text/plain": [
       "[0.00012431027425918728, 0.00012431027425918728]"
      ]
     },
     "execution_count": 14,
     "metadata": {},
     "output_type": "execute_result"
    }
   ],
   "source": [
    "nn.evaluate(X,  normalize_output(y), verbose=2)"
   ]
  },
  {
   "cell_type": "markdown",
   "metadata": {},
   "source": [
    "## Checking against the original data"
   ]
  },
  {
   "cell_type": "code",
   "execution_count": 15,
   "metadata": {},
   "outputs": [
    {
     "name": "stdout",
     "output_type": "stream",
     "text": [
      "859/859 [==============================] - 0s 392us/step\n",
      "The mean abs diff between y and y_pred is 43.452346028208204.\n",
      "The max diff between y and y_pred is 296.6641874277152.\n",
      "The min diff between y and y_pred is -193.34191910188383.\n"
     ]
    }
   ],
   "source": [
    "output_variable = \"avg_diff\"\n",
    "predictions_normed = nn.predict(X)\n",
    "# Rescale the predictions\n",
    "predictions = predictions_normed * (y.max() - y.min()) + y.min()\n",
    "y_pred = predictions\n",
    "y_diff = y - y_pred\n",
    "print(\n",
    "    f\"The mean abs diff between y and y_pred is {np.absolute(y_diff).mean()}.\"\n",
    ")\n",
    "print(f\"The max diff between y and y_pred is {y_diff.max()}.\")\n",
    "print(f\"The min diff between y and y_pred is {y_diff.min()}.\")"
   ]
  },
  {
   "cell_type": "code",
   "execution_count": 29,
   "metadata": {},
   "outputs": [
    {
     "name": "stdout",
     "output_type": "stream",
     "text": [
      "Mean:  [[54.73748     8.35946     8.381766    1.8990896   1.8962128   0.53320134]]\n",
      "Std dev:  [[5.95917    4.787876   4.805051   1.4172095  1.4169149  0.39561728]]\n"
     ]
    }
   ],
   "source": [
    "normalization_layer = nn.get_layer('normalization')\n",
    "mean = normalization_layer.mean.numpy()\n",
    "variance = normalization_layer.variance.numpy()\n",
    "print(\"Mean: \", mean)\n",
    "print(\"Std dev: \", variance**(1/2))"
   ]
  },
  {
   "cell_type": "markdown",
   "metadata": {},
   "source": [
    "# Check closeness to runs used in Silver Linings Book\n",
    "\n",
    "There are a number of runs included in the Silver Linings book that we want to hit **extremely** closely. We can check how close the surrogate model is to these runs."
   ]
  },
  {
   "cell_type": "code",
   "execution_count": 16,
   "metadata": {},
   "outputs": [
    {
     "name": "stdout",
     "output_type": "stream",
     "text": [
      "15/15 [==============================] - 0s 512us/step\n",
      "The mean abs diff between y_book_pred and y_book is 39.115684254982874.\n",
      "The max diff between y_book_pred and y_book is 38.33527331989353.\n",
      "The min diff between y_book_pred and y_book is -130.4563545554597.\n"
     ]
    }
   ],
   "source": [
    "# Load model\n",
    "X_book = X[-472:, :]\n",
    "y_book = y[-472:, :]\n",
    "\n",
    "# predict using the model\n",
    "y_book_pred_norm = nn.predict(X_book)\n",
    "y_book_pred = y_book_pred_norm * (y.max() - y.min()) + y.min()\n",
    "y_book_diff = y_book - y_book_pred\n",
    "print(\n",
    "    f\"The mean abs diff between y_book_pred and y_book \" +\n",
    "    f\"is {np.absolute(y_book_diff).mean()}.\"\n",
    ")\n",
    "print(f\"The max diff between y_book_pred and y_book is {y_book_diff.max()}.\")\n",
    "print(f\"The min diff between y_book_pred and y_book is {y_book_diff.min()}.\")\n"
   ]
  },
  {
   "cell_type": "code",
   "execution_count": null,
   "metadata": {},
   "outputs": [],
   "source": []
  }
 ],
 "metadata": {
  "colab": {
   "provenance": []
  },
  "kernelspec": {
   "display_name": "dynviz-dev",
   "language": "python",
   "name": "python3"
  },
  "language_info": {
   "codemirror_mode": {
    "name": "ipython",
    "version": 3
   },
   "file_extension": ".py",
   "mimetype": "text/x-python",
   "name": "python",
   "nbconvert_exporter": "python",
   "pygments_lexer": "ipython3",
   "version": "3.11.12"
  }
 },
 "nbformat": 4,
 "nbformat_minor": 0
}
