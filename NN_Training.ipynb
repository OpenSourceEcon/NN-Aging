{
 "cells": [
  {
   "cell_type": "markdown",
   "metadata": {
    "id": "BSp0qK7iPot9"
   },
   "source": [
    "# Neural Net Estimation Code for Surrogate Model for Sensitivity Analysis for Macroeconomics of Aging \n",
    "To run this notebook, use the `dynviz-dev` virtual conda environment, which can be built using the `environment.yml` file located in the same directory as this notebook (`conda env create -f environment.yml`).\n",
    "\n",
    "This notebook builds a surrogate model for a sensitivity analysis tool for the macroeconomic impacts of improvements in biological aging. In this project, each simulation of a reform scenario of the OG-USA macroeconomic model takes about 30 minutes on a fairly powerful machine. From our simulations, we wanted to test the sensitivity of the results to six variables. If we wanted to look at all the permutations of the model for three values in each of the six input variables, that would equal 729 runs of the model.\n",
    "\n",
    "If we assume that the equilibrium solutions are continuous and smooth between those points, we could fit a surrogate model function to those six input variables and an output variable (a regression model).\n",
    "\n",
    "The following $X$ and $y$ data represent $N=27,472$ observations from a linear interpolant of 472 simulations of our model, each with different values of the $X$ input variables. These original 472 simulations represent all the permutations of the max and min values of the 6 input variables in $X$ ($N\\times 6$ matrix) plus some remaining interior point observations. (The last 472 observations are the original 472 observations.)\n",
    "\n",
    "The final caveat is that we need our final interpolant to be a tensorflow neural net because that is the only model that the `tensorflow.js` library can host on a web page.\n",
    "\n",
    "**THE PROBLEM WE ARE STUCK ON (TRYING TO SOLVE)**\n",
    "\n",
    "We assumed that a deep net would fit the data well and provide a smooth interpolant of our training data and test data. However, as can be seen below, our neural net does not fit the training data very well. We wanted to know if you have any insights into how to fit a neural net to these data better."
   ]
  },
  {
   "cell_type": "code",
   "execution_count": 1,
   "metadata": {
    "id": "Fyk7fzYbPQFL"
   },
   "outputs": [
    {
     "name": "stderr",
     "output_type": "stream",
     "text": [
      "2025-05-18 20:35:28.442029: I external/local_tsl/tsl/cuda/cudart_stub.cc:31] Could not find cuda drivers on your machine, GPU will not be used.\n",
      "2025-05-18 20:35:28.476823: E external/local_xla/xla/stream_executor/cuda/cuda_dnn.cc:9261] Unable to register cuDNN factory: Attempting to register factory for plugin cuDNN when one has already been registered\n",
      "2025-05-18 20:35:28.476876: E external/local_xla/xla/stream_executor/cuda/cuda_fft.cc:607] Unable to register cuFFT factory: Attempting to register factory for plugin cuFFT when one has already been registered\n",
      "2025-05-18 20:35:28.478169: E external/local_xla/xla/stream_executor/cuda/cuda_blas.cc:1515] Unable to register cuBLAS factory: Attempting to register factory for plugin cuBLAS when one has already been registered\n",
      "2025-05-18 20:35:28.484633: I external/local_tsl/tsl/cuda/cudart_stub.cc:31] Could not find cuda drivers on your machine, GPU will not be used.\n",
      "2025-05-18 20:35:28.485718: I tensorflow/core/platform/cpu_feature_guard.cc:182] This TensorFlow binary is optimized to use available CPU instructions in performance-critical operations.\n",
      "To enable the following instructions: AVX2 FMA, in other operations, rebuild TensorFlow with the appropriate compiler flags.\n",
      "2025-05-18 20:35:29.551411: W tensorflow/compiler/tf2tensorrt/utils/py_utils.cc:38] TF-TRT Warning: Could not find TensorRT\n"
     ]
    }
   ],
   "source": [
    "# imports\n",
    "import numpy as np\n",
    "import os\n",
    "import pandas as pd\n",
    "import scipy.interpolate as si\n",
    "import pickle\n",
    "import matplotlib.pyplot as plt\n",
    "import tensorflow as tf\n",
    "from tensorflow import keras\n",
    "import tensorflow_decision_forests as tfdf\n",
    "from sklearn.model_selection import train_test_split"
   ]
  },
  {
   "cell_type": "markdown",
   "metadata": {},
   "source": [
    "## 1. Prep the data\n",
    "The following data contains 1 predicted variable $y$ which is an $N\\times 1$ vector and one matrix of 6 input variables $X$ which is an $N\\times 6$ matrix, where $N=27,472$. "
   ]
  },
  {
   "cell_type": "code",
   "execution_count": 2,
   "metadata": {},
   "outputs": [
    {
     "name": "stdout",
     "output_type": "stream",
     "text": [
      "The shape of X is (27472, 6)\n",
      "The shape of y is (27472, 1)\n"
     ]
    }
   ],
   "source": [
    "# Set the current directory as the cur_dir path\n",
    "cur_dir = os.getcwd()\n",
    "data_dir = os.path.join(cur_dir, 'data')\n",
    "\n",
    "# Read in the data\n",
    "X = np.loadtxt(os.path.join(data_dir, 'X.txt'), delimiter=',')\n",
    "y = np.loadtxt(os.path.join(data_dir, 'y.txt'), delimiter=',').reshape(-1, 1)\n",
    "print(f\"The shape of X is {X.shape}\")\n",
    "print(f\"The shape of y is {y.shape}\")"
   ]
  },
  {
   "cell_type": "code",
   "execution_count": 3,
   "metadata": {},
   "outputs": [],
   "source": [
    "# train-test split for model evaluation\n",
    "X_train, X_test, y_train, y_test = train_test_split(\n",
    "    X, y, train_size=0.8, random_state=42, shuffle=True\n",
    ")"
   ]
  },
  {
   "cell_type": "markdown",
   "metadata": {},
   "source": [
    "Here is the linear N-dimensional interpolant that we fit to our sparse runs of 472 data points in this $(X,y)$ space. This interpolant `interpolant_avg_diff()` is an estimated `scipy.interpolate.LinearNDInterpolator` object. This would be useful, e.g., if you want to use the surrogate model to generate new data points for each epoch."
   ]
  },
  {
   "cell_type": "code",
   "execution_count": 4,
   "metadata": {},
   "outputs": [
    {
     "name": "stderr",
     "output_type": "stream",
     "text": [
      "/tmp/ipykernel_398158/4103796048.py:1: DeprecationWarning: Please import `LinearNDInterpolator` from the `scipy.interpolate` namespace; the `scipy.interpolate.interpnd` namespace is deprecated and will be removed in SciPy 2.0.0.\n",
      "  interpolant_avg_diff = pickle.load(\n"
     ]
    },
    {
     "name": "stdout",
     "output_type": "stream",
     "text": [
      "Predictions =  [[1540.55086271]\n",
      " [2460.84864787]\n",
      " [ 456.17321004]\n",
      " [1149.23911813]\n",
      " [1503.92608606]]\n"
     ]
    }
   ],
   "source": [
    "interpolant_avg_diff = pickle.load(\n",
    "    open(\n",
    "        os.path.join(data_dir, \"interpolant_avg_diff.pkl\"), \"rb\"\n",
    "    )\n",
    ")\n",
    "# using\n",
    "prediction = interpolant_avg_diff(X_test)\n",
    "print(\"Predictions = \", prediction[:5])"
   ]
  },
  {
   "cell_type": "markdown",
   "metadata": {},
   "source": [
    "## 2. Set up the NN model"
   ]
  },
  {
   "cell_type": "code",
   "execution_count": 5,
   "metadata": {},
   "outputs": [],
   "source": [
    "# set some hyperparameters\n",
    "nodes_per_layer = 20 # multiplied by num inputs\n",
    "activation_function = \"relu\"\n",
    "num_epochs = 100\n",
    "learning_rate = 0.001\n",
    "# set up early stopping\n",
    "callback = keras.callbacks.EarlyStopping(monitor='loss', patience=5000)"
   ]
  },
  {
   "cell_type": "code",
   "execution_count": 6,
   "metadata": {},
   "outputs": [
    {
     "name": "stdout",
     "output_type": "stream",
     "text": [
      "Dimensions of each layer are [6, array([120., 108.,  96.,  84.,  72.,  60.,  48.]), 1]\n"
     ]
    }
   ],
   "source": [
    "# Layer setting\n",
    "num_input = X.shape[1]\n",
    "num_hidden_layers = 7\n",
    "num_hidden = np.zeros(num_hidden_layers)\n",
    "# Start with more nodes per layer and decrease\n",
    "for i in range(num_hidden_layers):\n",
    "    num_hidden[i] = (nodes_per_layer - i * 2) * num_input\n",
    "# num_hidden = nodes_per_layer * num_input\n",
    "num_output = y.shape[1]\n",
    "layers_dim = [num_input, num_hidden, num_output]\n",
    "print(\"Dimensions of each layer are {}\".format(layers_dim))"
   ]
  },
  {
   "cell_type": "code",
   "execution_count": 7,
   "metadata": {},
   "outputs": [],
   "source": [
    "# Define the normalization function of the output\n",
    "# Define the normalization function of the output\n",
    "def normalize_output(data, data_max=None, data_min=None):\n",
    "    \"\"\"Normalizes the output data to a [0, 1] range.\"\"\"\n",
    "    if data_max is None:\n",
    "        data_max = np.max(data)\n",
    "    if data_min is None:\n",
    "        data_min = np.min(data)\n",
    "    return (data - data_min) / (data_max - data_min)\n"
   ]
  },
  {
   "cell_type": "code",
   "execution_count": 8,
   "metadata": {},
   "outputs": [
    {
     "name": "stdout",
     "output_type": "stream",
     "text": [
      "Model: \"sequential\"\n",
      "_________________________________________________________________\n",
      " Layer (type)                Output Shape              Param #   \n",
      "=================================================================\n",
      " normalization (Normalizati  (None, 6)                 13        \n",
      " on)                                                             \n",
      "                                                                 \n",
      " dense (Dense)               (None, 120)               840       \n",
      "                                                                 \n",
      " dense_1 (Dense)             (None, 108)               13068     \n",
      "                                                                 \n",
      " dense_2 (Dense)             (None, 96)                10464     \n",
      "                                                                 \n",
      " dense_3 (Dense)             (None, 84)                8148      \n",
      "                                                                 \n",
      " dense_4 (Dense)             (None, 72)                6120      \n",
      "                                                                 \n",
      " dense_5 (Dense)             (None, 60)                4380      \n",
      "                                                                 \n",
      " dense_6 (Dense)             (None, 48)                2928      \n",
      "                                                                 \n",
      " dense_7 (Dense)             (None, 1)                 49        \n",
      "                                                                 \n",
      "=================================================================\n",
      "Total params: 46010 (179.73 KB)\n",
      "Trainable params: 45997 (179.68 KB)\n",
      "Non-trainable params: 13 (56.00 Byte)\n",
      "_________________________________________________________________\n",
      "None\n"
     ]
    }
   ],
   "source": [
    "# Create a normalization layer for the inputs\n",
    "norm_layer = tf.keras.layers.Normalization(input_shape=[num_input,], axis=-1)\n",
    "# norm_layer = tf.keras.layers.Normalization(input_shape=[num_input,], axis=None)\n",
    "\n",
    "# Initialize the weights\n",
    "initializer = tf.keras.initializers.HeNormal(99)\n",
    "# initializer = tf.keras.initializers.HeUniform()\n",
    "\n",
    "# Adapt the layer to your training data\n",
    "norm_layer.adapt(X_train)\n",
    "nn = tf.keras.Sequential(\n",
    "    [\n",
    "        norm_layer,\n",
    "        keras.layers.Dense(num_hidden[0], activation=activation_function, kernel_initializer=initializer),\n",
    "        keras.layers.Dense(num_hidden[1], activation=activation_function, kernel_initializer=initializer),\n",
    "        keras.layers.Dense(num_hidden[2], activation=activation_function, kernel_initializer=initializer),\n",
    "        keras.layers.Dense(num_hidden[3], activation=activation_function, kernel_initializer=initializer),\n",
    "        keras.layers.Dense(num_hidden[4], activation=activation_function, kernel_initializer=initializer),\n",
    "        keras.layers.Dense(num_hidden[5], activation=activation_function, kernel_initializer=initializer),\n",
    "        keras.layers.Dense(num_hidden[6], activation=activation_function, kernel_initializer=initializer),\n",
    "        keras.layers.Dense(num_output, kernel_initializer=initializer),\n",
    "    ]\n",
    ")\n",
    "print(nn.summary())"
   ]
  },
  {
   "cell_type": "code",
   "execution_count": 9,
   "metadata": {
    "id": "YRwvbbr0XIbf"
   },
   "outputs": [],
   "source": [
    "loss_fn = tf.keras.losses.MeanSquaredError()\n",
    "optimizer = tf.keras.optimizers.legacy.Adam(learning_rate=learning_rate)\n",
    "nn.compile(optimizer=optimizer, loss=loss_fn, metrics=['mean_squared_error'])"
   ]
  },
  {
   "cell_type": "markdown",
   "metadata": {},
   "source": [
    "## 3. Train the NN model"
   ]
  },
  {
   "cell_type": "code",
   "execution_count": 10,
   "metadata": {},
   "outputs": [
    {
     "name": "stdout",
     "output_type": "stream",
     "text": [
      "Epoch 1/100\n",
      "687/687 [==============================] - 2s 2ms/step - loss: 0.0045 - mean_squared_error: 0.0045\n",
      "Epoch 2/100\n",
      "687/687 [==============================] - 2s 2ms/step - loss: 4.8090e-04 - mean_squared_error: 4.8090e-04\n",
      "Epoch 3/100\n",
      "687/687 [==============================] - 2s 2ms/step - loss: 3.0310e-04 - mean_squared_error: 3.0310e-04\n",
      "Epoch 4/100\n",
      "687/687 [==============================] - 2s 2ms/step - loss: 2.3339e-04 - mean_squared_error: 2.3339e-04\n",
      "Epoch 5/100\n",
      "687/687 [==============================] - 2s 3ms/step - loss: 2.0115e-04 - mean_squared_error: 2.0115e-04 - val_loss: 1.9130e-04 - val_mean_squared_error: 1.9130e-04\n",
      "Epoch 6/100\n",
      "687/687 [==============================] - 2s 2ms/step - loss: 1.6831e-04 - mean_squared_error: 1.6831e-04\n",
      "Epoch 7/100\n",
      "687/687 [==============================] - 2s 2ms/step - loss: 1.9413e-04 - mean_squared_error: 1.9413e-04\n",
      "Epoch 8/100\n",
      "687/687 [==============================] - 2s 2ms/step - loss: 1.4554e-04 - mean_squared_error: 1.4554e-04\n",
      "Epoch 9/100\n",
      "687/687 [==============================] - 2s 2ms/step - loss: 1.5658e-04 - mean_squared_error: 1.5658e-04\n",
      "Epoch 10/100\n",
      "687/687 [==============================] - 2s 3ms/step - loss: 1.3820e-04 - mean_squared_error: 1.3820e-04 - val_loss: 1.3510e-04 - val_mean_squared_error: 1.3510e-04\n",
      "Epoch 11/100\n",
      "687/687 [==============================] - 2s 2ms/step - loss: 1.2747e-04 - mean_squared_error: 1.2747e-04\n",
      "Epoch 12/100\n",
      "687/687 [==============================] - 2s 2ms/step - loss: 1.2902e-04 - mean_squared_error: 1.2902e-04\n",
      "Epoch 13/100\n",
      "687/687 [==============================] - 2s 2ms/step - loss: 1.1640e-04 - mean_squared_error: 1.1640e-04\n",
      "Epoch 14/100\n",
      "687/687 [==============================] - 2s 2ms/step - loss: 1.1147e-04 - mean_squared_error: 1.1147e-04\n",
      "Epoch 15/100\n",
      "687/687 [==============================] - 2s 3ms/step - loss: 1.0179e-04 - mean_squared_error: 1.0179e-04 - val_loss: 1.1728e-04 - val_mean_squared_error: 1.1728e-04\n",
      "Epoch 16/100\n",
      "687/687 [==============================] - 2s 2ms/step - loss: 1.0370e-04 - mean_squared_error: 1.0370e-04\n",
      "Epoch 17/100\n",
      "687/687 [==============================] - 2s 2ms/step - loss: 9.9976e-05 - mean_squared_error: 9.9976e-05\n",
      "Epoch 18/100\n",
      "687/687 [==============================] - 2s 2ms/step - loss: 8.9677e-05 - mean_squared_error: 8.9677e-05\n",
      "Epoch 19/100\n",
      "687/687 [==============================] - 2s 2ms/step - loss: 8.3252e-05 - mean_squared_error: 8.3252e-05\n",
      "Epoch 20/100\n",
      "687/687 [==============================] - 2s 3ms/step - loss: 9.0918e-05 - mean_squared_error: 9.0918e-05 - val_loss: 7.6746e-05 - val_mean_squared_error: 7.6746e-05\n",
      "Epoch 21/100\n",
      "687/687 [==============================] - 2s 2ms/step - loss: 7.5562e-05 - mean_squared_error: 7.5562e-05\n",
      "Epoch 22/100\n",
      "687/687 [==============================] - 2s 2ms/step - loss: 7.5469e-05 - mean_squared_error: 7.5469e-05\n",
      "Epoch 23/100\n",
      "687/687 [==============================] - 2s 2ms/step - loss: 6.7959e-05 - mean_squared_error: 6.7959e-05\n",
      "Epoch 24/100\n",
      "687/687 [==============================] - 2s 2ms/step - loss: 6.6471e-05 - mean_squared_error: 6.6471e-05\n",
      "Epoch 25/100\n",
      "687/687 [==============================] - 2s 3ms/step - loss: 7.0012e-05 - mean_squared_error: 7.0012e-05 - val_loss: 6.6933e-05 - val_mean_squared_error: 6.6933e-05\n",
      "Epoch 26/100\n",
      "687/687 [==============================] - 2s 2ms/step - loss: 6.2621e-05 - mean_squared_error: 6.2621e-05\n",
      "Epoch 27/100\n",
      "687/687 [==============================] - 2s 3ms/step - loss: 5.7108e-05 - mean_squared_error: 5.7108e-05\n",
      "Epoch 28/100\n",
      "687/687 [==============================] - 2s 3ms/step - loss: 5.6734e-05 - mean_squared_error: 5.6734e-05\n",
      "Epoch 29/100\n",
      "687/687 [==============================] - 2s 3ms/step - loss: 5.8363e-05 - mean_squared_error: 5.8363e-05\n",
      "Epoch 30/100\n",
      "687/687 [==============================] - 2s 3ms/step - loss: 5.7048e-05 - mean_squared_error: 5.7048e-05 - val_loss: 5.4878e-05 - val_mean_squared_error: 5.4878e-05\n",
      "Epoch 31/100\n",
      "687/687 [==============================] - 2s 2ms/step - loss: 5.5206e-05 - mean_squared_error: 5.5206e-05\n",
      "Epoch 32/100\n",
      "687/687 [==============================] - 2s 2ms/step - loss: 5.5958e-05 - mean_squared_error: 5.5958e-05\n",
      "Epoch 33/100\n",
      "687/687 [==============================] - 2s 2ms/step - loss: 4.8364e-05 - mean_squared_error: 4.8364e-05\n",
      "Epoch 34/100\n",
      "687/687 [==============================] - 2s 2ms/step - loss: 5.0521e-05 - mean_squared_error: 5.0521e-05\n",
      "Epoch 35/100\n",
      "687/687 [==============================] - 2s 3ms/step - loss: 4.7853e-05 - mean_squared_error: 4.7853e-05 - val_loss: 5.4748e-05 - val_mean_squared_error: 5.4748e-05\n",
      "Epoch 36/100\n",
      "687/687 [==============================] - 2s 2ms/step - loss: 4.7025e-05 - mean_squared_error: 4.7025e-05\n",
      "Epoch 37/100\n",
      "687/687 [==============================] - 2s 2ms/step - loss: 4.3510e-05 - mean_squared_error: 4.3510e-05\n",
      "Epoch 38/100\n",
      "687/687 [==============================] - 2s 2ms/step - loss: 4.3774e-05 - mean_squared_error: 4.3774e-05\n",
      "Epoch 39/100\n",
      "687/687 [==============================] - 2s 2ms/step - loss: 4.5029e-05 - mean_squared_error: 4.5029e-05\n",
      "Epoch 40/100\n",
      "687/687 [==============================] - 2s 3ms/step - loss: 4.4976e-05 - mean_squared_error: 4.4976e-05 - val_loss: 4.8876e-05 - val_mean_squared_error: 4.8876e-05\n",
      "Epoch 41/100\n",
      "687/687 [==============================] - 2s 3ms/step - loss: 4.1319e-05 - mean_squared_error: 4.1319e-05\n",
      "Epoch 42/100\n",
      "687/687 [==============================] - 2s 2ms/step - loss: 4.1494e-05 - mean_squared_error: 4.1494e-05\n",
      "Epoch 43/100\n",
      "687/687 [==============================] - 2s 2ms/step - loss: 3.9689e-05 - mean_squared_error: 3.9689e-05\n",
      "Epoch 44/100\n",
      "687/687 [==============================] - 2s 3ms/step - loss: 4.1729e-05 - mean_squared_error: 4.1729e-05\n",
      "Epoch 45/100\n",
      "687/687 [==============================] - 2s 3ms/step - loss: 3.8982e-05 - mean_squared_error: 3.8982e-05 - val_loss: 7.2035e-05 - val_mean_squared_error: 7.2035e-05\n",
      "Epoch 46/100\n",
      "687/687 [==============================] - 2s 2ms/step - loss: 3.7213e-05 - mean_squared_error: 3.7213e-05\n",
      "Epoch 47/100\n",
      "687/687 [==============================] - 2s 2ms/step - loss: 3.9416e-05 - mean_squared_error: 3.9416e-05\n",
      "Epoch 48/100\n",
      "687/687 [==============================] - 2s 3ms/step - loss: 3.6523e-05 - mean_squared_error: 3.6523e-05\n",
      "Epoch 49/100\n",
      "687/687 [==============================] - 2s 3ms/step - loss: 3.4498e-05 - mean_squared_error: 3.4498e-05\n",
      "Epoch 50/100\n",
      "687/687 [==============================] - 2s 3ms/step - loss: 3.6180e-05 - mean_squared_error: 3.6180e-05 - val_loss: 4.3387e-05 - val_mean_squared_error: 4.3387e-05\n",
      "Epoch 51/100\n",
      "687/687 [==============================] - 2s 2ms/step - loss: 3.3777e-05 - mean_squared_error: 3.3777e-05\n",
      "Epoch 52/100\n",
      "687/687 [==============================] - 2s 2ms/step - loss: 3.3207e-05 - mean_squared_error: 3.3207e-05\n",
      "Epoch 53/100\n",
      "687/687 [==============================] - 2s 3ms/step - loss: 3.6231e-05 - mean_squared_error: 3.6231e-05\n",
      "Epoch 54/100\n",
      "687/687 [==============================] - 2s 3ms/step - loss: 3.2489e-05 - mean_squared_error: 3.2489e-05\n",
      "Epoch 55/100\n",
      "687/687 [==============================] - 2s 3ms/step - loss: 3.4902e-05 - mean_squared_error: 3.4902e-05 - val_loss: 6.1230e-05 - val_mean_squared_error: 6.1230e-05\n",
      "Epoch 56/100\n",
      "687/687 [==============================] - 2s 2ms/step - loss: 3.4406e-05 - mean_squared_error: 3.4406e-05\n",
      "Epoch 57/100\n",
      "687/687 [==============================] - 2s 3ms/step - loss: 3.2576e-05 - mean_squared_error: 3.2576e-05\n",
      "Epoch 58/100\n",
      "687/687 [==============================] - 2s 2ms/step - loss: 3.1893e-05 - mean_squared_error: 3.1893e-05\n",
      "Epoch 59/100\n",
      "687/687 [==============================] - 2s 2ms/step - loss: 3.1560e-05 - mean_squared_error: 3.1560e-05\n",
      "Epoch 60/100\n",
      "687/687 [==============================] - 2s 3ms/step - loss: 3.2778e-05 - mean_squared_error: 3.2778e-05 - val_loss: 3.6462e-05 - val_mean_squared_error: 3.6462e-05\n",
      "Epoch 61/100\n",
      "687/687 [==============================] - 2s 3ms/step - loss: 3.0391e-05 - mean_squared_error: 3.0391e-05\n",
      "Epoch 62/100\n",
      "687/687 [==============================] - 2s 2ms/step - loss: 2.8066e-05 - mean_squared_error: 2.8066e-05\n",
      "Epoch 63/100\n",
      "687/687 [==============================] - 2s 2ms/step - loss: 2.8828e-05 - mean_squared_error: 2.8828e-05\n",
      "Epoch 64/100\n",
      "687/687 [==============================] - 2s 2ms/step - loss: 3.0239e-05 - mean_squared_error: 3.0239e-05\n",
      "Epoch 65/100\n",
      "687/687 [==============================] - 2s 3ms/step - loss: 2.7537e-05 - mean_squared_error: 2.7537e-05 - val_loss: 3.6516e-05 - val_mean_squared_error: 3.6516e-05\n",
      "Epoch 66/100\n",
      "687/687 [==============================] - 2s 3ms/step - loss: 2.6745e-05 - mean_squared_error: 2.6745e-05\n",
      "Epoch 67/100\n",
      "687/687 [==============================] - 2s 2ms/step - loss: 3.0606e-05 - mean_squared_error: 3.0606e-05\n",
      "Epoch 68/100\n",
      "687/687 [==============================] - 2s 2ms/step - loss: 2.8006e-05 - mean_squared_error: 2.8006e-05\n",
      "Epoch 69/100\n",
      "687/687 [==============================] - 2s 2ms/step - loss: 3.1340e-05 - mean_squared_error: 3.1340e-05\n",
      "Epoch 70/100\n",
      "687/687 [==============================] - 2s 3ms/step - loss: 2.8085e-05 - mean_squared_error: 2.8085e-05 - val_loss: 3.0832e-05 - val_mean_squared_error: 3.0832e-05\n",
      "Epoch 71/100\n",
      "687/687 [==============================] - 2s 2ms/step - loss: 2.4840e-05 - mean_squared_error: 2.4840e-05\n",
      "Epoch 72/100\n",
      "687/687 [==============================] - 2s 3ms/step - loss: 2.8356e-05 - mean_squared_error: 2.8356e-05\n",
      "Epoch 73/100\n",
      "687/687 [==============================] - 2s 3ms/step - loss: 2.6042e-05 - mean_squared_error: 2.6042e-05\n",
      "Epoch 74/100\n",
      "687/687 [==============================] - 2s 2ms/step - loss: 2.8381e-05 - mean_squared_error: 2.8381e-05\n",
      "Epoch 75/100\n",
      "687/687 [==============================] - 2s 3ms/step - loss: 2.8149e-05 - mean_squared_error: 2.8149e-05 - val_loss: 3.3545e-05 - val_mean_squared_error: 3.3545e-05\n",
      "Epoch 76/100\n",
      "687/687 [==============================] - 2s 2ms/step - loss: 2.7495e-05 - mean_squared_error: 2.7495e-05\n",
      "Epoch 77/100\n",
      "687/687 [==============================] - 2s 2ms/step - loss: 2.4941e-05 - mean_squared_error: 2.4941e-05\n",
      "Epoch 78/100\n",
      "687/687 [==============================] - 2s 2ms/step - loss: 2.5548e-05 - mean_squared_error: 2.5548e-05\n",
      "Epoch 79/100\n",
      "687/687 [==============================] - 2s 2ms/step - loss: 2.6092e-05 - mean_squared_error: 2.6092e-05\n",
      "Epoch 80/100\n",
      "687/687 [==============================] - 2s 2ms/step - loss: 2.3585e-05 - mean_squared_error: 2.3585e-05 - val_loss: 4.2193e-05 - val_mean_squared_error: 4.2193e-05\n",
      "Epoch 81/100\n",
      "687/687 [==============================] - 2s 2ms/step - loss: 2.4953e-05 - mean_squared_error: 2.4953e-05\n",
      "Epoch 82/100\n",
      "687/687 [==============================] - 2s 2ms/step - loss: 2.2610e-05 - mean_squared_error: 2.2610e-05\n",
      "Epoch 83/100\n",
      "687/687 [==============================] - 2s 2ms/step - loss: 2.3686e-05 - mean_squared_error: 2.3686e-05\n",
      "Epoch 84/100\n",
      "687/687 [==============================] - 2s 2ms/step - loss: 2.5058e-05 - mean_squared_error: 2.5058e-05\n",
      "Epoch 85/100\n",
      "687/687 [==============================] - 2s 3ms/step - loss: 2.4400e-05 - mean_squared_error: 2.4400e-05 - val_loss: 3.1305e-05 - val_mean_squared_error: 3.1305e-05\n",
      "Epoch 86/100\n",
      "687/687 [==============================] - 2s 2ms/step - loss: 2.3477e-05 - mean_squared_error: 2.3477e-05\n",
      "Epoch 87/100\n",
      "687/687 [==============================] - 2s 2ms/step - loss: 2.3354e-05 - mean_squared_error: 2.3354e-05\n",
      "Epoch 88/100\n",
      "687/687 [==============================] - 2s 2ms/step - loss: 2.9633e-05 - mean_squared_error: 2.9633e-05\n",
      "Epoch 89/100\n",
      "687/687 [==============================] - 2s 2ms/step - loss: 2.2263e-05 - mean_squared_error: 2.2263e-05\n",
      "Epoch 90/100\n",
      "687/687 [==============================] - 2s 3ms/step - loss: 2.3452e-05 - mean_squared_error: 2.3452e-05 - val_loss: 2.9688e-05 - val_mean_squared_error: 2.9688e-05\n",
      "Epoch 91/100\n",
      "687/687 [==============================] - 2s 2ms/step - loss: 2.2283e-05 - mean_squared_error: 2.2283e-05\n",
      "Epoch 92/100\n",
      "687/687 [==============================] - 2s 2ms/step - loss: 2.1718e-05 - mean_squared_error: 2.1718e-05\n",
      "Epoch 93/100\n",
      "687/687 [==============================] - 2s 2ms/step - loss: 2.2278e-05 - mean_squared_error: 2.2278e-05\n",
      "Epoch 94/100\n",
      "687/687 [==============================] - 2s 2ms/step - loss: 2.1102e-05 - mean_squared_error: 2.1102e-05\n",
      "Epoch 95/100\n",
      "687/687 [==============================] - 2s 3ms/step - loss: 2.2953e-05 - mean_squared_error: 2.2953e-05 - val_loss: 3.0545e-05 - val_mean_squared_error: 3.0545e-05\n",
      "Epoch 96/100\n",
      "687/687 [==============================] - 2s 2ms/step - loss: 2.5788e-05 - mean_squared_error: 2.5788e-05\n",
      "Epoch 97/100\n",
      "687/687 [==============================] - 2s 2ms/step - loss: 2.2718e-05 - mean_squared_error: 2.2718e-05\n",
      "Epoch 98/100\n",
      "687/687 [==============================] - 2s 3ms/step - loss: 2.1534e-05 - mean_squared_error: 2.1534e-05\n",
      "Epoch 99/100\n",
      "687/687 [==============================] - 2s 3ms/step - loss: 2.0597e-05 - mean_squared_error: 2.0597e-05\n",
      "Epoch 100/100\n",
      "687/687 [==============================] - 2s 3ms/step - loss: 2.3118e-05 - mean_squared_error: 2.3118e-05 - val_loss: 3.1274e-05 - val_mean_squared_error: 3.1274e-05\n"
     ]
    }
   ],
   "source": [
    "y_max_train = y_train.max()\n",
    "y_min_train = y_train.min()\n",
    "history = nn.fit(\n",
    "    X_train, normalize_output(y_train),\n",
    "    epochs=num_epochs,\n",
    "    callbacks=[callback],\n",
    "    # sample_weight=sample_weights,\n",
    "    batch_size=32,\n",
    "    validation_data=(X_test,  normalize_output(y_test, y_max_train, y_min_train)),\n",
    "    validation_freq=5,   # Evaluate every 5 epochs\n",
    "    verbose=1\n",
    ")"
   ]
  },
  {
   "cell_type": "code",
   "execution_count": 11,
   "metadata": {},
   "outputs": [
    {
     "data": {
      "image/png": "[encoded data removed]",
      "text/plain": [
       "<Figure size 640x480 with 1 Axes>"
      ]
     },
     "metadata": {},
     "output_type": "display_data"
    }
   ],
   "source": [
    "# Plot training and validation loss\n",
    "plt.plot(np.arange(num_epochs), history.history['loss'], label='Train Loss')\n",
    "plt.plot(\n",
    "    np.linspace(0, num_epochs, num=int(np.ceil(num_epochs/5))),\n",
    "    history.history['val_loss'], label='Test Loss', marker='o'\n",
    ")\n",
    "plt.ylim(0, 0.0005)\n",
    "plt.xlabel('Epoch')\n",
    "plt.ylabel('Loss')\n",
    "plt.title('Train vs Test Loss')\n",
    "plt.legend()\n",
    "plt.show()"
   ]
  },
  {
   "cell_type": "markdown",
   "metadata": {},
   "source": [
    "## 4. Check the fit of the model"
   ]
  },
  {
   "cell_type": "code",
   "execution_count": 12,
   "metadata": {},
   "outputs": [
    {
     "name": "stdout",
     "output_type": "stream",
     "text": [
      "859/859 - 1s - loss: 2.1916e-05 - mean_squared_error: 2.1916e-05 - 1s/epoch - 1ms/step\n"
     ]
    },
    {
     "data": {
      "text/plain": [
       "[2.191568273701705e-05, 2.191568273701705e-05]"
      ]
     },
     "execution_count": 12,
     "metadata": {},
     "output_type": "execute_result"
    }
   ],
   "source": [
    "nn.evaluate(X,  normalize_output(y, y_max_train, y_min_train), verbose=2)"
   ]
  },
  {
   "cell_type": "markdown",
   "metadata": {},
   "source": [
    "### 4.1. Checking against the original data"
   ]
  },
  {
   "cell_type": "code",
   "execution_count": 13,
   "metadata": {},
   "outputs": [
    {
     "name": "stdout",
     "output_type": "stream",
     "text": [
      "859/859 [==============================] - 1s 1ms/step\n",
      "The mean abs diff between y and y_pred is 15.792049256049639.\n",
      "The max diff between y and y_pred is 215.51506370501784.\n",
      "The min diff between y and y_pred is -313.25722740240917.\n"
     ]
    }
   ],
   "source": [
    "output_variable = \"avg_diff\"\n",
    "predictions_normed = nn.predict(X)\n",
    "# Rescale the predictions\n",
    "predictions = predictions_normed * (y_max_train - y_min_train) + y_min_train\n",
    "y_pred = predictions\n",
    "y_diff = y - y_pred\n",
    "print(\n",
    "    f\"The mean abs diff between y and y_pred is {np.absolute(y_diff).mean()}.\"\n",
    ")\n",
    "print(f\"The max diff between y and y_pred is {y_diff.max()}.\")\n",
    "print(f\"The min diff between y and y_pred is {y_diff.min()}.\")"
   ]
  },
  {
   "cell_type": "code",
   "execution_count": 14,
   "metadata": {},
   "outputs": [
    {
     "name": "stdout",
     "output_type": "stream",
     "text": [
      "Mean:  [[54.774956   8.350455   8.384443   1.8986119  1.9025313  0.5333266]]\n",
      "Std dev:  [[5.9505095  4.8013268  4.798767   1.4162183  1.4184183  0.39660984]]\n"
     ]
    }
   ],
   "source": [
    "normalization_layer = nn.get_layer('normalization')\n",
    "mean = normalization_layer.mean.numpy()\n",
    "variance = normalization_layer.variance.numpy()\n",
    "print(\"Mean: \", mean)\n",
    "print(\"Std dev: \", variance**(1/2))"
   ]
  },
  {
   "cell_type": "markdown",
   "metadata": {},
   "source": [
    "### 4.2. Check closeness to runs used in Silver Linings Book\n",
    "\n",
    "There are a number of runs included in the Silver Linings book that we want to hit **extremely** closely. These happen to be the last 472 observations of the $X$ and $y$ data objects. We can check how close the surrogate model is to these runs."
   ]
  },
  {
   "cell_type": "code",
   "execution_count": 15,
   "metadata": {},
   "outputs": [
    {
     "name": "stdout",
     "output_type": "stream",
     "text": [
      "15/15 [==============================] - 0s 1ms/step\n",
      "The mean abs diff between y_book_pred and y_book is 19.13597747169837.\n",
      "The max diff between y_book_pred and y_book is 80.8457985770549.\n",
      "The min diff between y_book_pred and y_book is -76.27483755019.\n"
     ]
    }
   ],
   "source": [
    "# Load model\n",
    "X_book = X[-472:, :]\n",
    "y_book = y[-472:, :]\n",
    "\n",
    "# predict using the model\n",
    "y_book_pred_norm = nn.predict(X_book)\n",
    "y_book_pred = y_book_pred_norm * (y_max_train - y_min_train) + y_min_train\n",
    "y_book_diff = y_book - y_book_pred\n",
    "print(\n",
    "    f\"The mean abs diff between y_book_pred and y_book \" +\n",
    "    f\"is {np.absolute(y_book_diff).mean()}.\"\n",
    ")\n",
    "print(f\"The max diff between y_book_pred and y_book is {y_book_diff.max()}.\")\n",
    "print(f\"The min diff between y_book_pred and y_book is {y_book_diff.min()}.\")\n"
   ]
  },
  {
   "cell_type": "code",
   "execution_count": null,
   "metadata": {},
   "outputs": [],
   "source": []
  }
 ],
 "metadata": {
  "colab": {
   "provenance": []
  },
  "kernelspec": {
   "display_name": "Python 3 (ipykernel)",
   "language": "python",
   "name": "python3"
  },
  "language_info": {
   "codemirror_mode": {
    "name": "ipython",
    "version": 3
   },
   "file_extension": ".py",
   "mimetype": "text/x-python",
   "name": "python",
   "nbconvert_exporter": "python",
   "pygments_lexer": "ipython3",
   "version": "3.11.12"
  }
 },
 "nbformat": 4,
 "nbformat_minor": 4
}
